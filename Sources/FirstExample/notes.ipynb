{
 "cells": [
  {
   "cell_type": "code",
   "execution_count": null,
   "metadata": {},
   "outputs": [],
   "source": [
    "objects from \n",
    "64 - 74         ; 10 objects\n",
    "$40 - $4A\n",
    "01000000\n",
    "01000001\n",
    "01000010\n",
    "01000011\n",
    "01000100\n",
    "01000101\n",
    "01000111\n",
    "01001000\n",
    "01001001\n",
    "01001010\n",
    "\n",
    "vga = 0     OK 50 / 60 \n",
    "vga = 1     OK 50 / 60      \n",
    "vga = 2     OK 50 / 60 \n",
    "vga = 3     OK 50 / 60 \n",
    "vga = 4\n",
    "vga = 5\n",
    "vga = 6\n",
    "vga = 7\n",
    "\n",
    "inval = in (32766)\n",
    "if  inval = 190  or inval = 30 or in 31 band 80\n",
    "    quit=1 \n",
    "endif \n",
    "\n",
    "\n"
   ]
  }
 ],
 "metadata": {
  "language_info": {
   "name": "python"
  }
 },
 "nbformat": 4,
 "nbformat_minor": 2
}
